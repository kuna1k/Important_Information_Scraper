{
 "cells": [
  {
   "cell_type": "code",
   "execution_count": 8,
   "id": "359518f6-de93-43ec-a1e1-55e3c30a27e2",
   "metadata": {},
   "outputs": [],
   "source": [
    "import os\n",
    "os.environ['TOKENIZERS_PARALLELISM'] = 'false'"
   ]
  },
  {
   "cell_type": "code",
   "execution_count": 9,
   "id": "fac23a09-9bdb-40b1-852e-954c6d93d847",
   "metadata": {},
   "outputs": [],
   "source": [
    "# Install the necessary library\n",
    "!pip3 -qqq install newspaper3k"
   ]
  },
  {
   "cell_type": "code",
   "execution_count": 10,
   "id": "9f2c7470-1103-45d2-acea-39addf9e2ae3",
   "metadata": {},
   "outputs": [],
   "source": [
    "# Import required libraries\n",
    "from newspaper import Article\n",
    "import nltk\n",
    "from nltk.tokenize import sent_tokenize"
   ]
  },
  {
   "cell_type": "code",
   "execution_count": 11,
   "id": "527ca6b4-7596-4660-89a7-6d08d574c4aa",
   "metadata": {},
   "outputs": [
    {
     "name": "stderr",
     "output_type": "stream",
     "text": [
      "[nltk_data] Downloading package punkt to /Users/kunalk/nltk_data...\n",
      "[nltk_data]   Package punkt is already up-to-date!\n"
     ]
    },
    {
     "data": {
      "text/plain": [
       "True"
      ]
     },
     "execution_count": 11,
     "metadata": {},
     "output_type": "execute_result"
    }
   ],
   "source": [
    "# Download NLTK data for tokenization\n",
    "nltk.download('punkt')"
   ]
  },
  {
   "cell_type": "code",
   "execution_count": 12,
   "id": "3a5dd4e1-c4a2-438e-a42d-67df03745ca8",
   "metadata": {},
   "outputs": [],
   "source": [
    "# Define function to fetch and parse the article\n",
    "def fetch_article(article_url):\n",
    "    \"\"\"Fetch and parse the article from the given URL.\"\"\"\n",
    "    # Create an Article object\n",
    "    article = Article(article_url)\n",
    "    \n",
    "    try:\n",
    "        # Download and parse the article\n",
    "        article.download()\n",
    "        article.parse()\n",
    "        \n",
    "        # Return article details\n",
    "        return {\n",
    "            'authors': article.authors,\n",
    "            'publish_date': article.publish_date,\n",
    "            'title': article.title,\n",
    "            'text': article.text\n",
    "        }\n",
    "    except ArticleException as e:\n",
    "        print(\"Error:\", e)\n",
    "        return None"
   ]
  },
  {
   "cell_type": "code",
   "execution_count": 13,
   "id": "bd2b85c2-1167-4d90-898c-d1a2bd773fb7",
   "metadata": {},
   "outputs": [],
   "source": [
    "# Define function to process the article with NLP\n",
    "def process_article(article):\n",
    "    \"\"\"Perform natural language processing on the article.\"\"\"\n",
    "    if article is None:\n",
    "        return {'keywords': [], 'summary': ''}\n",
    "    \n",
    "    # Apply NLP techniques to the article\n",
    "    article.nlp()\n",
    "    \n",
    "    # Return keywords and summary\n",
    "    return {\n",
    "        'keywords': article.keywords,\n",
    "        'summary': article.summary\n",
    "    }"
   ]
  },
  {
   "cell_type": "code",
   "execution_count": 15,
   "id": "60c7553d-94ed-4d94-98bb-9640cd4edccf",
   "metadata": {},
   "outputs": [
    {
     "name": "stdout",
     "output_type": "stream",
     "text": [
      "Authors: ['Https', 'Media-Cldnry.S-Nbcnews.Com Image Upload Newscms', 'Katherine Koretski', 'Ben Kamisar', 'Henry J. Gomez', 'Media-Cldnry.S-Nbcnews.Com Image Upload Newscms Haake.Jpg', 'Garrett Haake', 'Dasha Burns', 'Katherine Koretski Is A Nbc News Campaign Embed.', 'Ben Kamisar Is A National Political Reporter For Nbc News']\n",
      "Publish Date: 2024-08-23 20:26:50+00:00\n",
      "Title: RFK Jr. endorses Trump after weeks of back-channel courtship\n",
      "\n",
      "Article Text:\n",
      " PHOENIX — Robert F. Kennedy Jr. endorsed former President Donald Trump Friday afternoon during a lengthy speech putting to rest his tumultuous independent presidential campaign.\n",
      "\n",
      "Kennedy's campaign first confirmed the endorsement in a court filing in Pennsylvania before he took the stage for the speech in battleground Arizona. Trump has his own event in nearby Glendale later Friday, where Kennedy will speak, according to three sources familiar with the planning — the culmination of weeks of talks.\n",
      "\n",
      "Kennedy, who gained prominence as an environmental lawyer and then as a leading anti-vaccine advocate, opened his remarks Friday blasting the Democratic Party for \"abandon[ing] democracy,\" lambasting his \"naysayers\" for not believing his campaign could be successful, and accusing both the media and Democrats of a conspiracy that kept him from being competitive. Then, Kennedy made it official.\n",
      "\n",
      "\"Many months ago I promised the American people I would withdraw from the race if I became a spoiler. ... In my heart, I no longer believe I have a realistic path to electoral victory,\" he said.\n",
      "\n",
      "Framing both Trump and himself as victims of the \"continual legal warfare\" by Democrats, Kennedy criticized Vice President Kamala Harris for not having won \"a single delegate\" during her 2020 race and accused her of ignoring the press and scuttling a policy platform for what he called a campaign focused exclusively on opposing Trump. And he compared Biden's, and then Harris', grip on the Democratic Party to the autocracy of Russia under President Vladimir Putin.\n",
      "\n",
      "By contrast, Kennedy made clear that in Trump, he sees a partner — and a fellow victim.\n",
      "\n",
      "\"These are the principled causes that persuaded me to leave the Democratic Party and run as an independent, and now to throw my support to President Trump. The causes were: Free speech, the war in Ukraine, and the war on our children,\" he said.\n",
      "\n",
      "\"One of the two candidates has adopted these issues as his own to the point where he has asked to enlist me in his administration. I'm speaking, of course, of Donald Trump.\"\n",
      "\n",
      "Other members of the Kennedy family criticized the endorsement. And in a statement, Democratic National Committee senior adviser Mary Beth Cahill said, \"Donald Trump isn’t earning an endorsement that’s going to help build support, he’s inheriting the baggage of a failed fringe candidate. Good riddance.\"\n",
      "\n",
      "Inside the negotiations\n",
      "\n",
      "Kennedy’s decision to back Trump comes after weeks of back-channel courtship. One person familiar with the discussions said that Donald Trump Jr. had been looking to engineer a Kennedy endorsement of his father for six months, with another source noting that Trump Jr. had long felt that Kennedy’s presence in the race was hurting the GOP campaign.\n",
      "\n",
      "For a time, polling was unclear about that question. But it changed dramatically after Harris took over as the Democratic presidential candidate and the polling landscape shifted. It's a reality the Trump campaign acknowledged in a memo from pollster Tony Fabrizio sent to reporters after Kennedy's announcement, which argues its polling shows that Kennedy's vote \"breaks for President Trump\" in every key state.\n",
      "\n",
      "Still, the initial conservations started earlier, about a week before the Republican convention, with right-wing commentator Tucker Carlson connecting Trump Jr. with Kennedy.\n",
      "\n",
      "From there, Trump Jr. and donor Omeed Malik served as go-betweens to help close the deal. The two sources familiar with the talks said that Kennedy is expected to play a role on the campaign trail going forward.\n",
      "\n",
      "In an interview, Malik said Kennedy has not been promised a Cabinet position in exchange for his endorsement, though that's something Kennedy running mate Nicole Shanahan suggested when speaking on a podcast earlier this week. (Shanahan did not appear at Friday's event.)\n",
      "\n",
      "But, Malik said, \"I think both President Trump and JD Vance have said as much in the last 24 hours, that should they be successful, there are plenty of roles, and I think the area of health is one,\" where Kennedy could serve.\n",
      "\n",
      "\"I don't see any downside whatsoever\" to Kennedy supporting Trump, Malik said, adding, \"These types of events have the potential to really change everything.\"\n",
      "\n",
      "At his speech on Friday, Kennedy went onto detail about speaking to and meeting with Trump and his advisers, when he said he discovered \"we are aligned on many key issues.\"\n",
      "\n",
      "And he implied he's been offered a say in a potential future Trump administration.\n",
      "\n",
      "\"If President Trump is elected and honors his word, the vast burden of chronic disease that now demoralizes and bankrupts the country will disappear,\" Kennedy said.\n",
      "\n",
      "\"President Trump has told he wants this to be his legacy,\" Kennedy continued. \"I'm choosing to believe that this time he will follow through. His son, his biggest donors and his closest friends all support this objective.\"\n",
      "\n",
      "And he admitted that aligning with Trump will \"a difficult sacrifice for my wife and children but worthwhile if there's even a small chance of saving these kids.\"\n",
      "\n",
      "But he stressed that this alliance with Trump \"will allow us to disagree publicly and privately,\" while still working together on their shared goals.\n",
      "\n",
      "Criticizing agencies like the FDA, Kennedy added that with \"Trump's backing,\" they are going to \"staff these agencies with honest scientists and doctors.\"\n",
      "\n",
      "As to his electoral future, Kennedy said he would only work to remove his name from ballots in swing states because he wanted to give his to give his supporters in \"red states\" and \"blue states\" a chance to vote for him without \"harming or helping.\"\n",
      "\n",
      "And he said that by remaining on the ballot, he could technically be eligible to assume the presidency in 2025 if no candidate wins a majority of the Electoral College, a virtual impossibility because it would require him to win Electoral College votes.\n",
      "\n",
      "A long and difficult campaign\n",
      "\n",
      "Kennedy's bid for the presidency stumbled amid intense opposition from Democrats, controversies stoked by the candidate himself, and difficulties overcoming the significant hurdles facing independents trying to get on ballots across the country.\n",
      "\n",
      "The decision to end his campaign had been expected, after Kennedy’s running mate began openly musing this week about whether he would drop out to endorse former President Donald Trump. Even before then, his campaign had stopped putting on its own events and started engaging in unusual public diplomacy with Trump, an opponent Kennedy had harshly criticized earlier in the campaign.\n",
      "\n",
      "Kennedy’s impending drop-out marks the end of one of the more quixotic presidential campaigns in modern history, one that initially gained enough traction to send Democrats into a panic about whether his bid could jeopardize their path to victory in 2024. Initially, Kennedy sought the Democratic presidential nomination, but he decided in October 2023 to run as an independent bid instead.\n",
      "\n",
      "His support waned, as it typically does for candidates charting a collision course with the country’s two-party system — though this time, it came amid a summer packed with campaign-shaking events.\n",
      "\n",
      "The Democratic Party’s decision to switch up its presidential ticket has prompted a decline in the share of voters saying they’d back third-party candidates, leaving Kennedy largely pulling from Trump. Even before that, Kennedy and his campaign struggled through a months-long, difficult stretch that raised questions about his viability.\n",
      "\n",
      "Kennedy’s public poll numbers have been dropping, and neither the candidate nor his running mate have spent much time on the trail in recent weeks. Instead, the candidate was accumulating negative headlines — an allegation that he groped a former famly babysitter (to which he responded to by declaring, “I am not a church boy”); a revelation that he used a dead bear he found on a roadside to stage a fake bicycle accident in New York’s Central Park; and a claim by Kennedy that doctors found a parasite in his brain more than a decade ago, among other things.\n",
      "\n",
      "He struggled to reconcile his career as an anti-vaccine activist with a need to win over a broad electorate. Kennedy repeatedly courted the anti-vaccine influencers and organizations that were integral to his career, leading to severe criticism from Democrats and other groups pointing to his comments and associations to frame him as a radical. On Thursday, after his campaign announced his intentions to give a Friday update on the state of the race, he tweeted out an 11-minute video he said was an attempt to “set the record straight by explaining my exact posture, point-by-point, one what is probably the most controversial issue of my campaign,” his stance on vaccines. Just 24 hours later, he left the race.\n",
      "\n",
      "Kennedy also flip-flopped on abortion policy throughout his campaign: In August 2023, while still running as a Democrat, he told NBC News that he’d support signing a national abortion ban after the first three months of pregnancy, before his campaign quickly walked back the comments. Then this May, Kennedy said in a podcast episode that he would support “full-term abortions,” stunning his running mate. Days later, Kennedy walked back those comments, too.\n",
      "\n",
      "And at an organizational level, Kennedy’s camp struggled at times under the weight of having to fund a massive ballot access program to get on ballots in enough states to win the presidency. By August, only a handful of states had certified Kennedy’s place on the ballot, and he has continued to face legal challenges, including a court decision to boot him from the ballot in New York.\n",
      "\n",
      "Even though that ballot access program fell short, it wasn’t cheap. The Kennedy campaign spent more than $8 million on campaign consulting from Accelevate 2020 LLC, a group that also does ballot-access work.\n",
      "\n",
      "Overall, the campaign effectively raised what it spent — it amassed $57.6 million and spent almost $54 million through July. But that fundraising includes $15 million in direct contributions from Kennedy’s vice presidential candidate, Shanahan, who spent the week stoking the speculation the campaign was about to end. (The campaign also refunded her more than $900,000 last month.)\n",
      "\n",
      "“There’s two options that we’re looking at, and one is staying in, forming that new party, but we run the risk of a Kamala Harris and Walz presidency, because we draw votes from Trump or we draw somehow more votes from Trump,” she said on a podcast interview released on Monday.\n",
      "\n",
      "“Or we walk away right now and join forces with Donald Trump. And, you know, we walk away from that and we explain to our base why we’re making this decision,” Shanahan continued.\n",
      "\n",
      "On Friday, Shanahan posted on social media, writing: “I’m not a Kamala Democrat. I’m not a Trump Republican [.] I’m an INDEPENDENT American who is endorsing ideas, not a person or a party. I will continue working to give a voice to the voiceless and bring power back to the people.”\n",
      "\n",
      "There have been other financial drains on the campaign, too, including the millions Kennedy spent on security as he repeatedly called on the federal government to provide him with Secret Service protection, evoking the political assassinations of his famous father and uncle.\n",
      "\n",
      "Federal campaign finance records show Kennedy’s campaign spent more than $3 million on security services provided by Gavin de Becker, a prominent security consultant protecting celebrities who is also a Kennedy supporter and friend. The campaign is also carrying an additional $3 million in debt to de Becker’s company.\n",
      "\n",
      "The campaign received Secret Service protection after the assassination attempt on Trump in July.\n",
      "\n",
      "Katherine Koretski reported from Phoenix; and Ben Kamisar from Washington, D.C.\n",
      "\n",
      "Keywords: ['rfk', 'jr', 'spent', 'kennedys', 'kennedy', 'endorses', 'president', 'support', 'backchannel', 'presidential', 'trump', 'campaign', 'courtship', 'weeks', 'democratic', 'candidate']\n",
      "\n",
      "Summary: PHOENIX — Robert F. Kennedy Jr. endorsed former President Donald Trump Friday afternoon during a lengthy speech putting to rest his tumultuous independent presidential campaign.\n",
      "Kennedy's campaign first confirmed the endorsement in a court filing in Pennsylvania before he took the stage for the speech in battleground Arizona.\n",
      "But it changed dramatically after Harris took over as the Democratic presidential candidate and the polling landscape shifted.\n",
      "Initially, Kennedy sought the Democratic presidential nomination, but he decided in October 2023 to run as an independent bid instead.\n",
      "The Kennedy campaign spent more than $8 million on campaign consulting from Accelevate 2020 LLC, a group that also does ballot-access work.\n"
     ]
    }
   ],
   "source": [
    "# Main execution\n",
    "if __name__ == \"__main__\":\n",
    "    # Define the URL of the article\n",
    "    article_url = \"https://www.nbcnews.com/politics/2024-election/rfk-jr-says-court-filing-endorsing-trump-ending-presidential-hopes-rcna165936\"\n",
    "    \n",
    "    # Fetch and parse the article\n",
    "    article_data = fetch_article(article_url)\n",
    "    \n",
    "    if article_data:\n",
    "        article = Article(article_url)  # Reinitialize to use for NLP\n",
    "        article.download()\n",
    "        article.parse()\n",
    "        nlp_data = process_article(article)\n",
    "\n",
    "        # Update article data with NLP results\n",
    "        article_data.update(nlp_data)\n",
    "\n",
    "        # Print article details\n",
    "        print(\"Authors:\", article_data['authors'])\n",
    "        print(\"Publish Date:\", article_data['publish_date'])\n",
    "        print(\"Title:\", article_data['title'])\n",
    "        print(\"\\nArticle Text:\\n\", article_data['text'])\n",
    "\n",
    "        # Print NLP results\n",
    "        print(\"\\nKeywords:\", article_data['keywords'])\n",
    "        print(\"\\nSummary:\", article_data['summary'])\n",
    "    else:\n",
    "        print(\"Failed to fetch or parse the article.\")"
   ]
  }
 ],
 "metadata": {
  "kernelspec": {
   "display_name": "Python 3 (ipykernel)",
   "language": "python",
   "name": "python3"
  },
  "language_info": {
   "codemirror_mode": {
    "name": "ipython",
    "version": 3
   },
   "file_extension": ".py",
   "mimetype": "text/x-python",
   "name": "python",
   "nbconvert_exporter": "python",
   "pygments_lexer": "ipython3",
   "version": "3.11.7"
  }
 },
 "nbformat": 4,
 "nbformat_minor": 5
}
